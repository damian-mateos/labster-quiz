{
 "cells": [
  {
   "cell_type": "code",
   "execution_count": 11,
   "metadata": {},
   "outputs": [
    {
     "name": "stdout",
     "output_type": "stream",
     "text": [
      "Response from /generate_question endpoint:\n",
      "{'question': '**Question:**\\n\\nWhich of the following chemical equations is correctly balanced according to the law of conservation of mass?\\n\\nA) \\\\( \\\\text{H}_2 + \\\\text{O}_2 \\\\rightarrow \\\\text{H}_2\\\\text{O} \\\\)\\n\\nB) \\\\( \\\\text{2H}_2 + \\\\text{O}_2 \\\\rightarrow \\\\text{2H}_2\\\\text{O} \\\\)\\n\\nC) \\\\( \\\\text{C} + \\\\text{O}_2 \\\\rightarrow \\\\text{CO} \\\\)\\n\\nD) \\\\( \\\\text{2Na} + \\\\text{Cl}_2 \\\\rightarrow \\\\text{NaCl} \\\\)\\n\\n**Correct Answer:** B) \\\\( \\\\text{2H}_2 + \\\\text{O}_2 \\\\rightarrow \\\\text{2H}_2\\\\text{O} \\\\) \\n\\n**Explanation:** This equation is balanced because there are 4 hydrogen atoms and 2 oxygen atoms on both sides of the equation, in accordance with the law of conservation of mass.'}\n"
     ]
    }
   ],
   "source": [
    "import requests\n",
    "\n",
    "# Define the API URL\n",
    "base_url = 'http://127.0.0.1:5000'\n",
    "\n",
    "# Define the learning objective\n",
    "learning_objective = \"Balance chemical equations using the law of conservation of mass\"\n",
    "\n",
    "# Send POST request to /generate_question endpoint\n",
    "response = requests.post(\n",
    "    f\"{base_url}/generate_question\",\n",
    "    json={'learning_objective': learning_objective}\n",
    ")\n",
    "\n",
    "# Print the response\n",
    "print(\"Response from /generate_question endpoint:\")\n",
    "print(response.json())"
   ]
  },
  {
   "cell_type": "code",
   "execution_count": 16,
   "metadata": {},
   "outputs": [
    {
     "name": "stdout",
     "output_type": "stream",
     "text": [
      "Response from /current_cost endpoint:\n",
      "{'current_cost': 0.0009963}\n"
     ]
    }
   ],
   "source": [
    "import requests\n",
    "\n",
    "# Define the API URL\n",
    "base_url = 'http://127.0.0.1:5000'\n",
    "\n",
    "# Send GET request to /current_cost endpoint\n",
    "response = requests.get(f\"{base_url}/current_cost\")\n",
    "\n",
    "# Print the response\n",
    "print(\"Response from /current_cost endpoint:\")\n",
    "print(response.json())"
   ]
  },
  {
   "cell_type": "code",
   "execution_count": 1,
   "metadata": {},
   "outputs": [
    {
     "name": "stdout",
     "output_type": "stream",
     "text": [
      "**Question: Which of the following balanced chemical equations correctly demonstrates the law of conservation of mass?**\n",
      "\n",
      "A) 2 H₂ + O₂ → 2 H₂O  \n",
      "B) C₃H₈ + 5 O₂ → 3 CO₂ + 4 H₂O  \n",
      "C) N₂ + 3 H₂ → 2 NH₃  \n",
      "D) All of the above  \n",
      "\n",
      "**Correct Answer: D) All of the above**  \n",
      "\n",
      "**Explanation:** Each of the equations shows that the number of atoms of each element is the same on both sides of the equation, illustrating the law of conservation of mass.\n",
      "\n",
      "The current money spent is 0.0002412$\n"
     ]
    }
   ],
   "source": [
    "from src.quiz_generator import QuizQuestionGenerator\n",
    "\n",
    "generator = QuizQuestionGenerator()\n",
    "learning_objective = \"Balance chemical equations using the law of conservation of mass\"\n",
    "question = generator.generate_questions(learning_objective)\n",
    "print(question)\n",
    "current_costs = generator.calculate_current_cost()\n",
    "print(f\"\\nThe current money spent is {current_costs}$\")"
   ]
  }
 ],
 "metadata": {
  "kernelspec": {
   "display_name": "venv-quiz",
   "language": "python",
   "name": "python3"
  },
  "language_info": {
   "codemirror_mode": {
    "name": "ipython",
    "version": 3
   },
   "file_extension": ".py",
   "mimetype": "text/x-python",
   "name": "python",
   "nbconvert_exporter": "python",
   "pygments_lexer": "ipython3",
   "version": "3.13.2"
  }
 },
 "nbformat": 4,
 "nbformat_minor": 2
}
