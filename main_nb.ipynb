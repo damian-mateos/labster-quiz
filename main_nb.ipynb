{
 "cells": [
  {
   "cell_type": "code",
   "execution_count": 1,
   "metadata": {},
   "outputs": [
    {
     "name": "stdout",
     "output_type": "stream",
     "text": [
      "**Question: Which of the following balanced chemical equations correctly demonstrates the law of conservation of mass?**\n",
      "\n",
      "A) 2 H₂ + O₂ → 2 H₂O  \n",
      "B) C₃H₈ + 5 O₂ → 3 CO₂ + 4 H₂O  \n",
      "C) N₂ + 3 H₂ → 2 NH₃  \n",
      "D) All of the above  \n",
      "\n",
      "**Correct Answer: D) All of the above**  \n",
      "\n",
      "**Explanation:** Each of the equations shows that the number of atoms of each element is the same on both sides of the equation, illustrating the law of conservation of mass.\n",
      "\n",
      "The current money spent is 0.0002412$\n"
     ]
    }
   ],
   "source": [
    "from src.quiz_generator import QuizQuestionGenerator\n",
    "\n",
    "generator = QuizQuestionGenerator()\n",
    "learning_objective = \"Balance chemical equations using the law of conservation of mass\"\n",
    "question = generator.generate_questions(learning_objective)\n",
    "print(question)\n",
    "current_costs = generator.calculate_current_cost()\n",
    "print(f\"\\nThe current money spent is {current_costs}$\")"
   ]
  }
 ],
 "metadata": {
  "kernelspec": {
   "display_name": "venv-quiz",
   "language": "python",
   "name": "python3"
  },
  "language_info": {
   "codemirror_mode": {
    "name": "ipython",
    "version": 3
   },
   "file_extension": ".py",
   "mimetype": "text/x-python",
   "name": "python",
   "nbconvert_exporter": "python",
   "pygments_lexer": "ipython3",
   "version": "3.13.2"
  }
 },
 "nbformat": 4,
 "nbformat_minor": 2
}
