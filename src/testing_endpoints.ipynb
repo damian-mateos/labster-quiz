{
 "cells": [
  {
   "cell_type": "code",
   "execution_count": 2,
   "metadata": {},
   "outputs": [
    {
     "name": "stdout",
     "output_type": "stream",
     "text": [
      "Response from /generate_question endpoint:\n",
      "{'correct_option': 1, 'explanation': 'The law of conservation of mass states that matter cannot be created or destroyed in a chemical reaction. The balanced equation 2 H2 + O2 → 2 H2O shows that there are equal numbers of each type of atom on both sides of the equation, adhering to this law.', 'option1': '2 H2 + O2 → 2 H2O', 'option2': 'H2 + O2 → H2O', 'option3': '2 H2 + 2 O2 → 2 H2O', 'option4': 'H2 + 2 O2 → H2O', 'statement': 'Which of the following chemical equations is balanced according to the law of conservation of mass?'}\n"
     ]
    }
   ],
   "source": [
    "import requests\n",
    "\n",
    "base_url = 'http://127.0.0.1:5000'\n",
    "learning_objective = \"Balance chemical equations using the law of conservation of mass\"\n",
    "\n",
    "# Send POST request to /generate_question endpoint\n",
    "response = requests.post(\n",
    "    f\"{base_url}/generate_question\",\n",
    "    json={'learning_objective': learning_objective}\n",
    ")\n",
    "\n",
    "print(\"Response from /generate_question endpoint:\")\n",
    "print(response.json())"
   ]
  },
  {
   "cell_type": "code",
   "execution_count": 3,
   "metadata": {},
   "outputs": [
    {
     "name": "stdout",
     "output_type": "stream",
     "text": [
      "Response from /current_cost endpoint:\n",
      "{'current_cost': 0.0038106}\n"
     ]
    }
   ],
   "source": [
    "import requests\n",
    "\n",
    "base_url = 'http://127.0.0.1:5000'\n",
    "\n",
    "# Send GET request to /current_cost endpoint\n",
    "response = requests.get(f\"{base_url}/current_cost\")\n",
    "\n",
    "print(\"Response from /current_cost endpoint:\")\n",
    "print(response.json())"
   ]
  }
 ],
 "metadata": {
  "kernelspec": {
   "display_name": "venv-quiz",
   "language": "python",
   "name": "python3"
  },
  "language_info": {
   "codemirror_mode": {
    "name": "ipython",
    "version": 3
   },
   "file_extension": ".py",
   "mimetype": "text/x-python",
   "name": "python",
   "nbconvert_exporter": "python",
   "pygments_lexer": "ipython3",
   "version": "3.13.2"
  }
 },
 "nbformat": 4,
 "nbformat_minor": 2
}
